#__**IMPORTING REQUIRED LIBRARIES**__
import tensorflow as tf
import pandas as pd
import numpy as np
import matplotlib.pyplot as plt
from sklearn.metrics import accuracy_score,confusion_matrix

#__**LOADING THE DATA**__
(i_train, o_train), (i_test, o_test) = tf.keras.datasets.mnist.load_data(path="mnist.npz")
print(i_train.shape)
print(i_test.shape)

#__**VISUALIZING THE TRAINING DATA**__
i = 255
plt.imshow(i_train[i],cmap='gray')
plt.show()

#__**NORMALIZATION**__
i_train = i_train/255
i_test = i_test/255

#__**BUILDING THE MODEL**__
model = tf.keras.Sequential()
model.add(tf.keras.layers.Flatten(input_shape = i_train[0].shape))
model.add(tf.keras.layers.Dense(784,activation = 'relu'))
model.add(tf.keras.layers.Dense(10,activation = 'softmax'))

#__**SUMMARY OF THE MODEL**__
model.summary()

#__**TRAINING AND FITTING THE MODEL**__
model.compile(optimizer = 'adam' , loss = 'sparse_categorical_crossentropy' , metrics = ['accuracy'])
model.fit(i_train,o_train,epochs=30)

#__**LOSS AND ACCURACY CHANGE OF MODEL**__
loss = pd.DataFrame(model.history.history['loss']).plot()
acc = pd.DataFrame(model.history.history['accuracy']).plot()

#__**TESTING THE MODEL AND PREDICTING**__
o_pred = model.predict(i_test)
o_pred = np.argmax(o_pred,axis=1)

#__**ACCURACY OF PREDICTION**__
accuracy_score(o_test,o_pred)

model.save('Digit_Reconizer..hdf5')
