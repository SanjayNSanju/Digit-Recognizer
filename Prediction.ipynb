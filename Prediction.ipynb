{
  "nbformat": 4,
  "nbformat_minor": 0,
  "metadata": {
    "colab": {
      "provenance": [],
      "authorship_tag": "ABX9TyONuh1qGTzPwzQkN+cBrYEp",
      "include_colab_link": true
    },
    "kernelspec": {
      "name": "python3",
      "display_name": "Python 3"
    },
    "language_info": {
      "name": "python"
    }
  },
  "cells": [
    {
      "cell_type": "markdown",
      "metadata": {
        "id": "view-in-github",
        "colab_type": "text"
      },
      "source": [
        "<a href=\"https://colab.research.google.com/github/SanjayNSanju/Digit-Recognizer/blob/main/Prediction.ipynb\" target=\"_parent\"><img src=\"https://colab.research.google.com/assets/colab-badge.svg\" alt=\"Open In Colab\"/></a>"
      ]
    },
    {
      "cell_type": "code",
      "source": [
        "from google.colab import drive\n",
        "drive.mount('/content/drive')"
      ],
      "metadata": {
        "colab": {
          "base_uri": "https://localhost:8080/"
        },
        "id": "6cpWJIkrYSNK",
        "outputId": "676ef881-103f-44ed-e299-619db71ac654"
      },
      "execution_count": null,
      "outputs": [
        {
          "output_type": "stream",
          "name": "stdout",
          "text": [
            "Drive already mounted at /content/drive; to attempt to forcibly remount, call drive.mount(\"/content/drive\", force_remount=True).\n"
          ]
        }
      ]
    },
    {
      "cell_type": "code",
      "source": [
        "import tensorflow as tf\n",
        "import matplotlib.pyplot as plt\n",
        "import cv2\n",
        "import numpy as np\n",
        "\n",
        "model = tf.keras.models.load_model('/content/drive/MyDrive/Digit_Recognizer/Digit_Reconizer..hdf5')"
      ],
      "metadata": {
        "id": "2icxtyYeZvrt"
      },
      "execution_count": null,
      "outputs": []
    },
    {
      "cell_type": "code",
      "execution_count": 18,
      "metadata": {
        "colab": {
          "base_uri": "https://localhost:8080/",
          "height": 282
        },
        "id": "XZyB9lwoVj4e",
        "outputId": "032761e0-4b5e-4c0e-8e34-ed041448fd38"
      },
      "outputs": [
        {
          "output_type": "stream",
          "name": "stdout",
          "text": [
            "[9]\n"
          ]
        },
        {
          "output_type": "display_data",
          "data": {
            "text/plain": [
              "<Figure size 432x288 with 1 Axes>"
            ],
            "image/png": "[encoded data removed]"
          },
          "metadata": {
            "needs_background": "light"
          }
        }
      ],
      "source": [
        "img =  cv2.imread('/content/drive/MyDrive/Digit_Recognizer/Test Dataset/9.png',1)\n",
        "plt.imshow(img)\n",
        "re_img = cv2.resize(img.astype('uint8'),(28,28))\n",
        "img_grey = cv2.cvtColor(re_img,cv2.COLOR_BGR2GRAY)\n",
        "img_grey = img_grey/255\n",
        "out = model.predict(img_grey.reshape(1,28,28))\n",
        "print(np.argmax(out,axis=1))"
      ]
    }
  ]
}